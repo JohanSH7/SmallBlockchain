{
  "nbformat": 4,
  "nbformat_minor": 0,
  "metadata": {
    "colab": {
      "provenance": [],
      "authorship_tag": "ABX9TyML//QF5QeIrMi9o4H4NYLI",
      "include_colab_link": true
    },
    "kernelspec": {
      "name": "python3",
      "display_name": "Python 3"
    },
    "language_info": {
      "name": "python"
    }
  },
  "cells": [
    {
      "cell_type": "markdown",
      "metadata": {
        "id": "view-in-github",
        "colab_type": "text"
      },
      "source": [
        "<a href=\"https://colab.research.google.com/github/JohanSH7/SmallBlockchain/blob/main/Task_BLOCKCHAINipynb.ipynb\" target=\"_parent\"><img src=\"https://colab.research.google.com/assets/colab-badge.svg\" alt=\"Open In Colab\"/></a>"
      ]
    },
    {
      "cell_type": "markdown",
      "source": [
        "The code snippet starts with two important imports:\n",
        "\n",
        "* **hashlib:** This module is part of Python's standard library and provides hash algorithms. In the context of blockchain, hashing is critical for ensuring the integrity and security of data.\n",
        "* **json:** This module is used to work with JSON data, which is a common format for structuring data in web applications and blockchains.\n",
        "* **List (from typing):** This allows you to define data structures that expect a list of certain elements, ensuring that the code is more robust and clear.\n",
        "\n",
        "**Helper Function:** sha256(data)\n",
        "This function is a utility function that calculates the SHA-256 hash of the input data. It encodes the data to a string format (UTF-8) and then applies the SHA-256 hashing algorithm."
      ],
      "metadata": {
        "id": "F9KCwRgR9SjQ"
      }
    },
    {
      "cell_type": "code",
      "execution_count": 1,
      "metadata": {
        "id": "K-jU3pR04E8G"
      },
      "outputs": [],
      "source": [
        "import hashlib\n",
        "import json\n",
        "from typing import List\n",
        "\n",
        "# Helper function to calculate SHA256 hash\n",
        "def sha256(data):\n",
        "    return hashlib.sha256(data.encode('utf-8')).hexdigest()"
      ]
    },
    {
      "cell_type": "markdown",
      "source": [
        "### **Class: Transaction**\n",
        "\n",
        "The Transaction class models a basic transaction between two users. It has three key properties:\n",
        "\n",
        "* **sender:** Represents the public key (address) of the sender. In the context of blockchain, this would correspond to the public key of the wallet making the transaction.\n",
        "* **receiver:** Represents the public key (address) of the receiver. This is the wallet that will receive the transaction.\n",
        "* **amount:** The value being transferred between the sender and receiver.\n",
        "\n",
        "**Methods:**\n",
        "\n",
        "* **to_dict():** Converts the transaction data into a Python dictionary format. This is useful for easy manipulation and later conversion to JSON, which can be used for creating hashes or saving transaction details.\n",
        "\n",
        "* **to_string():** Converts the transaction into a JSON string format, which is crucial for calculating the hash of the transaction for inclusion in the Merkle Tree (a fundamental part of blockchain that helps secure the integrity of transactions within blocks). By sorting the keys in the dictionary (sort_keys=True), it ensures consistent hash values regardless of the order in which the fields were added.\n",
        "\n",
        "In Bitcoin's actual system, each transaction would include additional elements like signatures to verify that the sender is authorized to make the transaction. The current implementation here simplifies this by focusing only on the sender, receiver, and amount.\n",
        "\n",
        "### **Class: Wallet**\n",
        "The Wallet class models a user's digital wallet. It contains:\n",
        "\n",
        "* **public_key:** The public key acts as the wallet's address. In the real blockchain, this key is used for verifying and making transactions.\n",
        "* **balance:** The wallet's balance, initialized to 0 by default but can be set with an initial value.\n",
        "\n",
        "**Methods:**\n",
        "\n",
        "* **update_balance():** A simple method to adjust the balance of the wallet. It adds the given amount to the current balance."
      ],
      "metadata": {
        "id": "PtfXJ8ra9wJY"
      }
    },
    {
      "cell_type": "code",
      "source": [
        "# Class to represent a transaction\n",
        "class Transaction:\n",
        "    def __init__(self, sender, receiver, amount):\n",
        "        self.sender = sender  # public key (address) of sender\n",
        "        self.receiver = receiver  # public key (address) of receiver\n",
        "        self.amount = amount\n",
        "\n",
        "    def to_dict(self):\n",
        "        return {\"sender\": self.sender, \"receiver\": self.receiver, \"amount\": self.amount}\n",
        "\n",
        "    # Transaction string to hash for Merkle tree\n",
        "    def to_string(self):\n",
        "        return json.dumps(self.to_dict(), sort_keys=True)\n",
        "\n",
        "# Class to represent a user wallet\n",
        "class Wallet:\n",
        "    def __init__(self, public_key, initial_balance=0):\n",
        "        self.public_key = public_key\n",
        "        self.balance = initial_balance\n",
        "\n",
        "    def update_balance(self, amount):\n",
        "        self.balance += amount"
      ],
      "metadata": {
        "id": "kt_VbOOht-XX"
      },
      "execution_count": 2,
      "outputs": []
    },
    {
      "cell_type": "markdown",
      "source": [
        "### **The MerkleTree class**\n",
        "Is responsible for building a Merkle Tree from a list of transactions and generating a Merkle Root—which is a cryptographic hash representing all the transactions in the block.\n",
        "\n",
        "* **__init__ method:** Takes a list of transactions, computes their hashes, and builds the Merkle root.\n",
        "\n",
        "* **build_merkle_root method:** Converts the transactions into hashes using SHA-256 and passes them to the compute_merkle_root function.\n",
        "\n",
        "* **compute_merkle_root method:** Recursively combines adjacent transaction hashes (concatenating and hashing them together) until only a single hash remains—the Merkle Root. If the number of transaction hashes is odd, the last hash is duplicated to ensure pairs can be formed."
      ],
      "metadata": {
        "id": "LyZ8jEX5CG1Q"
      }
    },
    {
      "cell_type": "code",
      "source": [
        "# Class to create a Merkle Tree for transactions\n",
        "class MerkleTree:\n",
        "    def __init__(self, transactions: List[Transaction]):\n",
        "        self.transactions = transactions\n",
        "        self.root = self.build_merkle_root()\n",
        "\n",
        "    # Create a Merkle root from transaction hashes\n",
        "    def build_merkle_root(self):\n",
        "        tx_hashes = [sha256(tx.to_string()) for tx in self.transactions]\n",
        "        return self.compute_merkle_root(tx_hashes)\n",
        "\n",
        "    # Compute Merkle root from transaction hashes\n",
        "    def compute_merkle_root(self, tx_hashes):\n",
        "        while len(tx_hashes) > 1:\n",
        "            if len(tx_hashes) % 2 != 0:\n",
        "                tx_hashes.append(tx_hashes[-1])  # duplicate last hash if odd number\n",
        "            tx_hashes = [sha256(tx_hashes[i] + tx_hashes[i + 1]) for i in range(0, len(tx_hashes), 2)]\n",
        "        return tx_hashes[0] if tx_hashes else None"
      ],
      "metadata": {
        "id": "JTWNGY11uMBE"
      },
      "execution_count": 3,
      "outputs": []
    },
    {
      "cell_type": "markdown",
      "source": [
        "### **Block Class:**\n",
        "The Block class represents a block in the blockchain, which contains the following attributes:\n",
        "\n",
        "* **previous_hash:** The hash of the previous block, ensuring each block is linked to the previous one.\n",
        "* **transactions:** A list of transactions included in this block. These are the operations (e.g., transfers of coins) that will be verified and stored in the block.\n",
        "* **nonce:** A counter used in the Proof of Work (PoW) mechanism. The correct nonce is found through computational work and is stored in the block.\n",
        "* **merkle_root:** The root of the Merkle Tree, which is generated from the transactions. It provides a compact way of verifying the integrity of all transactions in the block.\n",
        "\n",
        "The class also includes:\n",
        "\n",
        "* **to_dict():** Converts the block's data into a dictionary for hashing or storage purposes.\n",
        "* **compute_hash():** Uses the SHA-256 algorithm to compute the hash of the block. This hash ensures the integrity of the block and its contents.\n",
        "\n",
        "### **Blockchain Class:**\n",
        "The Blockchain class simulates the entire blockchain, composed of multiple blocks. Key attributes include:\n",
        "\n",
        "* **chain:** A list that holds all the blocks in the blockchain.\n",
        "* **pending_transactions:** Transactions that are waiting to be added to the next block.\n",
        "* **difficulty:** The difficulty level for the Proof of Work mechanism, determining how hard it is to mine a new block.\n",
        "\n",
        "*Key methods include:*\n",
        "\n",
        "* **create_genesis_block():** Creates the genesis block, the first block in the blockchain. This block is initialized with no transactions and a hash of all zeros.\n",
        "\n",
        "* **proof_of_work():** Implements the Proof of Work algorithm. It iterates over possible nonce values, recomputing the block's hash until the hash meets the difficulty condition (starting with a specified number of leading zeros). This process simulates the computational effort required to mine a block.\n",
        "\n",
        "* **add_block():** Adds a new block to the blockchain after successful Proof of Work validation. Once a valid hash is found, the block is added to the chain.\n",
        "\n",
        "* **validate_transaction():** Ensures that the sender has enough balance to make a transaction. This method verifies whether a wallet has sufficient funds before the transaction is allowed.\n",
        "\n",
        "* **create_transaction():** Creates a new transaction between two wallets, updating the balance of both the sender and receiver. If the transaction is valid (i.e., the sender has enough funds), it is added to the pool of pending transactions.\n",
        "\n",
        "* **mine_pending_transactions():** Mines a new block from the list of pending transactions. The miner is rewarded with a coinbase transaction (where the miner is given new coins as a reward for mining the block). After the transactions are mined, they are cleared from the pending list."
      ],
      "metadata": {
        "id": "QF6xsRSbCsPn"
      }
    },
    {
      "cell_type": "code",
      "source": [
        "# Class to represent a block in the blockchain\n",
        "class Block:\n",
        "    def __init__(self, previous_hash, transactions: List[Transaction], nonce=0):\n",
        "        self.previous_hash = previous_hash  # Hash of the previous block\n",
        "        self.transactions = transactions  # Block body with transactions\n",
        "        self.nonce = nonce  # Proof of work nonce\n",
        "        self.merkle_root = MerkleTree(transactions).root  # Merkle root from transactions\n",
        "\n",
        "    def to_dict(self):\n",
        "        return {\n",
        "            \"previous_hash\": self.previous_hash,\n",
        "            \"merkle_root\": self.merkle_root,\n",
        "            \"nonce\": self.nonce,\n",
        "            \"transactions\": [tx.to_dict() for tx in self.transactions]\n",
        "        }\n",
        "\n",
        "    # Hash of the block\n",
        "    def compute_hash(self):\n",
        "        block_string = json.dumps(self.to_dict(), sort_keys=True)\n",
        "        return sha256(block_string)\n",
        "\n",
        "# Class to represent the blockchain\n",
        "class Blockchain:\n",
        "    MAX_TRANSACTIONS_PER_BLOCK = 4\n",
        "    def __init__(self, difficulty=2):\n",
        "        self.chain = []  # List of blocks\n",
        "        self.pending_transactions = []  # List of pending transactions to be added to blocks\n",
        "        self.difficulty = difficulty  # Difficulty level for proof-of-work\n",
        "        self.create_genesis_block()  # Create the genesis block\n",
        "\n",
        "\n",
        "    # Genesis block (initial block in the chain)\n",
        "    def create_genesis_block(self):\n",
        "        genesis_block = Block(\"0\" * 64, [], 0)  # Special genesis block with no transactions\n",
        "        genesis_block.hash = genesis_block.compute_hash()\n",
        "        self.chain.append(genesis_block)\n",
        "\n",
        "    # Proof-of-work mechanism: find a nonce that satisfies difficulty condition\n",
        "    def proof_of_work(self, block):\n",
        "        block.nonce = 0\n",
        "        computed_hash = block.compute_hash()\n",
        "        while not computed_hash.startswith(\"0\" * self.difficulty):\n",
        "            block.nonce += 1\n",
        "            computed_hash = block.compute_hash()\n",
        "        return computed_hash\n",
        "\n",
        "    # Add a new block to the chain after proof-of-work validation\n",
        "    def add_block(self, block):\n",
        "        proof = self.proof_of_work(block)\n",
        "        block.hash = proof\n",
        "        self.chain.append(block)\n",
        "\n",
        "    # Validate transaction: check if sender has enough balance\n",
        "    def validate_transaction(self, transaction, wallet):\n",
        "        if transaction.amount <= 0:\n",
        "            return False  # Sending 0 or less coins is not allowed\n",
        "        if wallet.balance >= transaction.amount:\n",
        "            wallet.update_balance(-transaction.amount)\n",
        "            return True\n",
        "        else:\n",
        "            return False\n",
        "\n",
        "    # Create a new transaction and add it to the pending pool\n",
        "    def create_transaction(self, sender_wallet, receiver_wallet, amount):\n",
        "        if self.validate_transaction(Transaction(sender_wallet.public_key, receiver_wallet.public_key, amount), sender_wallet):\n",
        "            new_transaction = Transaction(sender_wallet.public_key, receiver_wallet.public_key, amount)\n",
        "            self.pending_transactions.append(new_transaction)\n",
        "            receiver_wallet.update_balance(amount)\n",
        "            return new_transaction\n",
        "        else:\n",
        "            return None  # Invalid transaction (insufficient funds)\n",
        "\n",
        "    # Mine a new block with pending transactions\n",
        "    def mine_pending_transactions(self, miner_wallet: Wallet):\n",
        "        if not self.pending_transactions:\n",
        "            print(\"No hay transacciones pendientes para minar.\")\n",
        "            return None\n",
        "\n",
        "        # Select a limited number of transactions to include in the block\n",
        "        transactions_to_include = self.pending_transactions[:self.MAX_TRANSACTIONS_PER_BLOCK]\n",
        "        previous_hash = self.chain[-1].hash\n",
        "        block = Block(previous_hash, transactions_to_include)\n",
        "        self.add_block(block)\n",
        "\n",
        "        # Remove transactions that have already been mined\n",
        "        self.pending_transactions = self.pending_transactions[self.MAX_TRANSACTIONS_PER_BLOCK:]\n",
        "\n",
        "        # Miner reward via coinbase transaction\n",
        "        coinbase_tx = Transaction(None, miner_wallet.public_key, 50)  # 50 Coins Reward\n",
        "        self.pending_transactions.append(coinbase_tx)\n",
        "        miner_wallet.update_balance(50)\n",
        "\n",
        "    # Method to display blocks in the chain\n",
        "    def display_chain(self):\n",
        "        for i, block in enumerate(self.chain):\n",
        "            print(f\"Block {i}:\")\n",
        "            print(f\"Previous Hash: {block.previous_hash}\")\n",
        "            print(f\"Merkle Root: {block.merkle_root}\")\n",
        "            print(f\"Nonce: {block.nonce}\")\n",
        "            print(f\"Transactions: {block.transactions}\")\n",
        "            print(f\"Hash: {block.compute_hash()}\")\n",
        "            print(\"-\" * 50)"
      ],
      "metadata": {
        "id": "UlXQnQWRubxk"
      },
      "execution_count": 16,
      "outputs": []
    },
    {
      "cell_type": "markdown",
      "source": [
        "Example of use:"
      ],
      "metadata": {
        "id": "TG_IPkcZDs1h"
      }
    },
    {
      "cell_type": "code",
      "source": [
        "if __name__ == \"__main__\":\n",
        "    # Create wallets for users\n",
        "    alice_wallet = Wallet(public_key=\"alice_public_key\", initial_balance=100)\n",
        "    bob_wallet = Wallet(public_key=\"bob_public_key\", initial_balance=50)\n",
        "    charlie_wallet = Wallet(public_key=\"charlie_public_key\", initial_balance=75)\n",
        "    miner_wallet = Wallet(public_key=\"miner_public_key\", initial_balance=0)\n",
        "\n",
        "    # Create a Blockchain Instance\n",
        "    blockchain = Blockchain()\n",
        "\n",
        "    # Create multiple transactions\n",
        "    blockchain.create_transaction(alice_wallet, bob_wallet, 10)\n",
        "    blockchain.create_transaction(alice_wallet, charlie_wallet, 5)\n",
        "    blockchain.create_transaction(bob_wallet, charlie_wallet, 15)\n",
        "    blockchain.create_transaction(charlie_wallet, alice_wallet, 2)\n",
        "    blockchain.create_transaction(bob_wallet, alice_wallet, 8)\n",
        "    blockchain.create_transaction(charlie_wallet, bob_wallet, 3)\n",
        "\n",
        "    # Mine pending transactions (first time)\n",
        "    blockchain.mine_pending_transactions(miner_wallet)\n",
        "\n",
        "    # Create more transactions\n",
        "    blockchain.create_transaction(alice_wallet, bob_wallet, 20)\n",
        "    blockchain.create_transaction(bob_wallet, charlie_wallet, 7)\n",
        "\n",
        "    # Mine pending transactions (second time)\n",
        "    blockchain.mine_pending_transactions(miner_wallet)\n",
        "\n",
        "    # Show the blockchain\n",
        "    blockchain.display_chain()"
      ],
      "metadata": {
        "colab": {
          "base_uri": "https://localhost:8080/"
        },
        "id": "knXArZk9I2N4",
        "outputId": "c321ed08-f877-4137-a21d-9ed4abea17a9"
      },
      "execution_count": 17,
      "outputs": [
        {
          "output_type": "stream",
          "name": "stdout",
          "text": [
            "Block 0:\n",
            "Previous Hash: 0000000000000000000000000000000000000000000000000000000000000000\n",
            "Merkle Root: None\n",
            "Nonce: 0\n",
            "Transactions: []\n",
            "Hash: db55bb1f905739fed0728def5b36e3598a4dd986eaa79be4086ecba241464d24\n",
            "--------------------------------------------------\n",
            "Block 1:\n",
            "Previous Hash: db55bb1f905739fed0728def5b36e3598a4dd986eaa79be4086ecba241464d24\n",
            "Merkle Root: c4a70973de825ae83b831fc5a57fe928bb07eff356b78539f5776f52857d005d\n",
            "Nonce: 92\n",
            "Transactions: [<__main__.Transaction object at 0x7c9d758ef010>, <__main__.Transaction object at 0x7c9d758eeec0>, <__main__.Transaction object at 0x7c9d758ee950>, <__main__.Transaction object at 0x7c9d758eecb0>]\n",
            "Hash: 00455438c8173e39c1c7824fe58e2e9c7c6f69d293fff994633aa520b8219c3d\n",
            "--------------------------------------------------\n",
            "Block 2:\n",
            "Previous Hash: 00455438c8173e39c1c7824fe58e2e9c7c6f69d293fff994633aa520b8219c3d\n",
            "Merkle Root: 3faa523e7d6959823b05a8cb5e0aaf5b60fe4006d12ca36a934d0b09ac500572\n",
            "Nonce: 738\n",
            "Transactions: [<__main__.Transaction object at 0x7c9d758eec80>, <__main__.Transaction object at 0x7c9d758ef2e0>, <__main__.Transaction object at 0x7c9d75ba7b80>, <__main__.Transaction object at 0x7c9d758ef130>]\n",
            "Hash: 000e9c8ef6bf749f2120744d66bf5fbc2636a6bb59434aa22600d87957fc85a6\n",
            "--------------------------------------------------\n"
          ]
        }
      ]
    }
  ]
}